{
  "nbformat": 4,
  "nbformat_minor": 0,
  "metadata": {
    "colab": {
      "name": "BD1_Psycopg2WithPandas_relatórios_lab.ipynb",
      "version": "0.3.2",
      "provenance": []
    },
    "language_info": {
      "codemirror_mode": {
        "name": "ipython",
        "version": 3
      },
      "file_extension": ".py",
      "mimetype": "text/x-python",
      "name": "python",
      "nbconvert_exporter": "python",
      "pygments_lexer": "ipython3",
      "version": "3.7.0"
    },
    "kernelspec": {
      "display_name": "Python 3",
      "language": "python",
      "name": "python3"
    }
  },
  "cells": [
    {
      "cell_type": "markdown",
      "metadata": {
        "id": "-pm8sRLwr0k6",
        "colab_type": "text"
      },
      "source": [
        "# Conexão com postgres e Relatorios do Sistema"
      ]
    },
    {
      "cell_type": "markdown",
      "metadata": {
        "id": "E9zfUQemr0k8",
        "colab_type": "text"
      },
      "source": [
        "## Instalando biblioteca de acesso com postgres e manipulação de dados e gráficos"
      ]
    },
    {
      "cell_type": "code",
      "metadata": {
        "id": "YH2WzPqQr0k9",
        "colab_type": "code",
        "colab": {
          "base_uri": "https://localhost:8080/",
          "height": 411
        },
        "outputId": "68240a50-596c-4af9-d9b2-e19bce7f2946"
      },
      "source": [
        "!pip install --user psycopg2-binary\n",
        "!pip install --user seaborn\n",
        "!pip install --user pandas"
      ],
      "execution_count": 3,
      "outputs": [
        {
          "output_type": "stream",
          "text": [
            "Collecting psycopg2-binary\n",
            "\u001b[?25l  Downloading https://files.pythonhosted.org/packages/b1/35/75c9c2d9cfc073ab6c42b2d8e91ff58c9b99f4ed7ed56b36647642e6080e/psycopg2_binary-2.8.3-cp36-cp36m-manylinux1_x86_64.whl (2.9MB)\n",
            "\u001b[K     |████████████████████████████████| 2.9MB 5.0MB/s \n",
            "\u001b[?25hInstalling collected packages: psycopg2-binary\n",
            "Successfully installed psycopg2-binary-2.8.3\n",
            "Requirement already satisfied: seaborn in /usr/local/lib/python3.6/dist-packages (0.9.0)\n",
            "Requirement already satisfied: matplotlib>=1.4.3 in /usr/local/lib/python3.6/dist-packages (from seaborn) (3.0.3)\n",
            "Requirement already satisfied: pandas>=0.15.2 in /usr/local/lib/python3.6/dist-packages (from seaborn) (0.24.2)\n",
            "Requirement already satisfied: scipy>=0.14.0 in /usr/local/lib/python3.6/dist-packages (from seaborn) (1.3.0)\n",
            "Requirement already satisfied: numpy>=1.9.3 in /usr/local/lib/python3.6/dist-packages (from seaborn) (1.16.4)\n",
            "Requirement already satisfied: pyparsing!=2.0.4,!=2.1.2,!=2.1.6,>=2.0.1 in /usr/local/lib/python3.6/dist-packages (from matplotlib>=1.4.3->seaborn) (2.4.0)\n",
            "Requirement already satisfied: kiwisolver>=1.0.1 in /usr/local/lib/python3.6/dist-packages (from matplotlib>=1.4.3->seaborn) (1.1.0)\n",
            "Requirement already satisfied: python-dateutil>=2.1 in /usr/local/lib/python3.6/dist-packages (from matplotlib>=1.4.3->seaborn) (2.5.3)\n",
            "Requirement already satisfied: cycler>=0.10 in /usr/local/lib/python3.6/dist-packages (from matplotlib>=1.4.3->seaborn) (0.10.0)\n",
            "Requirement already satisfied: pytz>=2011k in /usr/local/lib/python3.6/dist-packages (from pandas>=0.15.2->seaborn) (2018.9)\n",
            "Requirement already satisfied: setuptools in /usr/local/lib/python3.6/dist-packages (from kiwisolver>=1.0.1->matplotlib>=1.4.3->seaborn) (41.0.1)\n",
            "Requirement already satisfied: six>=1.5 in /usr/local/lib/python3.6/dist-packages (from python-dateutil>=2.1->matplotlib>=1.4.3->seaborn) (1.12.0)\n",
            "Requirement already satisfied: pandas in /usr/local/lib/python3.6/dist-packages (0.24.2)\n",
            "Requirement already satisfied: pytz>=2011k in /usr/local/lib/python3.6/dist-packages (from pandas) (2018.9)\n",
            "Requirement already satisfied: numpy>=1.12.0 in /usr/local/lib/python3.6/dist-packages (from pandas) (1.16.4)\n",
            "Requirement already satisfied: python-dateutil>=2.5.0 in /usr/local/lib/python3.6/dist-packages (from pandas) (2.5.3)\n",
            "Requirement already satisfied: six>=1.5 in /usr/local/lib/python3.6/dist-packages (from python-dateutil>=2.5.0->pandas) (1.12.0)\n"
          ],
          "name": "stdout"
        }
      ]
    },
    {
      "cell_type": "markdown",
      "metadata": {
        "id": "pWlM9KEer0lD",
        "colab_type": "text"
      },
      "source": [
        "### Importando bibliotecas"
      ]
    },
    {
      "cell_type": "code",
      "metadata": {
        "id": "FjpPeDsTr0lD",
        "colab_type": "code",
        "colab": {
          "base_uri": "https://localhost:8080/",
          "height": 71
        },
        "outputId": "fb6cab58-8f70-41e1-8810-dced33f7ad3d"
      },
      "source": [
        "import seaborn as sns\n",
        "import pandas as pd\n",
        "import psycopg2"
      ],
      "execution_count": 4,
      "outputs": [
        {
          "output_type": "stream",
          "text": [
            "/usr/local/lib/python3.6/dist-packages/psycopg2/__init__.py:144: UserWarning: The psycopg2 wheel package will be renamed from release 2.8; in order to keep installing from binary please use \"pip install psycopg2-binary\" instead. For details see: <http://initd.org/psycopg/docs/install.html#binary-install-from-pypi>.\n",
            "  \"\"\")\n"
          ],
          "name": "stderr"
        }
      ]
    },
    {
      "cell_type": "markdown",
      "metadata": {
        "id": "JR2WDlSNr0lH",
        "colab_type": "text"
      },
      "source": [
        "### Usando psycopg2 para configurar conexão"
      ]
    },
    {
      "cell_type": "code",
      "metadata": {
        "id": "QDgxtD8Br0lI",
        "colab_type": "code",
        "colab": {}
      },
      "source": [
        "conn = psycopg2.connect(host=\"raja.db.elephantsql.com\",database=\"diqiafqu\", user=\"diqiafqu\", password=\"a-9_Rq0HLC83LOfRCP6EHRbym05YRIks\")"
      ],
      "execution_count": 0,
      "outputs": []
    },
    {
      "cell_type": "markdown",
      "metadata": {
        "id": "xSv1_UJ3r0lK",
        "colab_type": "text"
      },
      "source": [
        "## Obtendo dados do database com Pandas"
      ]
    },
    {
      "cell_type": "markdown",
      "metadata": {
        "id": "ELd5iBDgr0lK",
        "colab_type": "text"
      },
      "source": [
        "# Relatório 1"
      ]
    },
    {
      "cell_type": "markdown",
      "metadata": {
        "id": "0AjZRnJKr0lL",
        "colab_type": "text"
      },
      "source": [
        "### Objetivo: Objeter o volume atual das lixeiras que informe: ID da lixeira, data e hora da última manutenção\n"
      ]
    },
    {
      "cell_type": "markdown",
      "metadata": {
        "id": "MpQrfX6Wr0lL",
        "colab_type": "text"
      },
      "source": [
        "Código para obtenção do resultado:"
      ]
    },
    {
      "cell_type": "code",
      "metadata": {
        "id": "nAXa51XQr0lN",
        "colab_type": "code",
        "colab": {}
      },
      "source": [
        "relatorio1 = pd.read_sql_query(\"\"\"\n",
        "                            select distinct(lixeira.id_lixeira) as \"Id\", lixeira.nome_lixo as \"lixeira\", nv_lixo.id_nv_lixo as \"id_nv_lixo\", nv_lixo.tipo_nv_lixo as \"nv_lixo\", manutencao_chamado.data as \"data_manutencao\", manutencao_chamado.hora as \"hora_manutencao\" from lixeira\n",
        "inner join manutencao_chamado on (lixeira.fk_nv_lixo_id_nv_lixo = manutencao_chamado.fk_lixeira_id_lixeira)\n",
        "inner join nv_lixo on (lixeira.fk_nv_lixo_id_nv_lixo = nv_lixo.id_nv_lixo)\n",
        "order by manutencao_chamado.\"data\" desc;\n",
        "                            \"\"\",conn)"
      ],
      "execution_count": 0,
      "outputs": []
    },
    {
      "cell_type": "code",
      "metadata": {
        "id": "JK7pit12r0lP",
        "colab_type": "code",
        "colab": {
          "base_uri": "https://localhost:8080/",
          "height": 359
        },
        "outputId": "23171c60-7633-464b-ac02-04d4aefdc0a1"
      },
      "source": [
        "relatorio1"
      ],
      "execution_count": 35,
      "outputs": [
        {
          "output_type": "execute_result",
          "data": {
            "text/html": [
              "<div>\n",
              "<style scoped>\n",
              "    .dataframe tbody tr th:only-of-type {\n",
              "        vertical-align: middle;\n",
              "    }\n",
              "\n",
              "    .dataframe tbody tr th {\n",
              "        vertical-align: top;\n",
              "    }\n",
              "\n",
              "    .dataframe thead th {\n",
              "        text-align: right;\n",
              "    }\n",
              "</style>\n",
              "<table border=\"1\" class=\"dataframe\">\n",
              "  <thead>\n",
              "    <tr style=\"text-align: right;\">\n",
              "      <th></th>\n",
              "      <th>Id</th>\n",
              "      <th>lixeira</th>\n",
              "      <th>id_nv_lixo</th>\n",
              "      <th>nv_lixo</th>\n",
              "      <th>data_manutencao</th>\n",
              "      <th>hora_manutencao</th>\n",
              "    </tr>\n",
              "  </thead>\n",
              "  <tbody>\n",
              "    <tr>\n",
              "      <th>0</th>\n",
              "      <td>13</td>\n",
              "      <td>Churrasqueira 1</td>\n",
              "      <td>1</td>\n",
              "      <td>meio_vazio</td>\n",
              "      <td>2019-12-10</td>\n",
              "      <td>10:02:10</td>\n",
              "    </tr>\n",
              "    <tr>\n",
              "      <th>1</th>\n",
              "      <td>20</td>\n",
              "      <td>Bosque</td>\n",
              "      <td>1</td>\n",
              "      <td>meio_vazio</td>\n",
              "      <td>2019-12-10</td>\n",
              "      <td>10:02:10</td>\n",
              "    </tr>\n",
              "    <tr>\n",
              "      <th>2</th>\n",
              "      <td>14</td>\n",
              "      <td>Churrasqueira 2</td>\n",
              "      <td>4</td>\n",
              "      <td>cheio</td>\n",
              "      <td>2019-06-22</td>\n",
              "      <td>10:52:02</td>\n",
              "    </tr>\n",
              "    <tr>\n",
              "      <th>3</th>\n",
              "      <td>19</td>\n",
              "      <td>Jardim 2</td>\n",
              "      <td>4</td>\n",
              "      <td>cheio</td>\n",
              "      <td>2019-06-22</td>\n",
              "      <td>10:52:02</td>\n",
              "    </tr>\n",
              "    <tr>\n",
              "      <th>4</th>\n",
              "      <td>12</td>\n",
              "      <td>Condominio 2</td>\n",
              "      <td>2</td>\n",
              "      <td>meio</td>\n",
              "      <td>2018-03-20</td>\n",
              "      <td>10:22:00</td>\n",
              "    </tr>\n",
              "    <tr>\n",
              "      <th>5</th>\n",
              "      <td>18</td>\n",
              "      <td>Jardim</td>\n",
              "      <td>2</td>\n",
              "      <td>meio</td>\n",
              "      <td>2018-03-20</td>\n",
              "      <td>10:22:00</td>\n",
              "    </tr>\n",
              "    <tr>\n",
              "      <th>6</th>\n",
              "      <td>21</td>\n",
              "      <td>Salão de Festas 2</td>\n",
              "      <td>2</td>\n",
              "      <td>meio</td>\n",
              "      <td>2018-03-20</td>\n",
              "      <td>10:22:00</td>\n",
              "    </tr>\n",
              "    <tr>\n",
              "      <th>7</th>\n",
              "      <td>15</td>\n",
              "      <td>Churrasqueira 3</td>\n",
              "      <td>3</td>\n",
              "      <td>meio_cheio</td>\n",
              "      <td>2017-05-15</td>\n",
              "      <td>10:32:00</td>\n",
              "    </tr>\n",
              "    <tr>\n",
              "      <th>8</th>\n",
              "      <td>16</td>\n",
              "      <td>Churrasqueira 4</td>\n",
              "      <td>3</td>\n",
              "      <td>meio_cheio</td>\n",
              "      <td>2017-05-15</td>\n",
              "      <td>10:32:00</td>\n",
              "    </tr>\n",
              "    <tr>\n",
              "      <th>9</th>\n",
              "      <td>17</td>\n",
              "      <td>Área comum</td>\n",
              "      <td>3</td>\n",
              "      <td>meio_cheio</td>\n",
              "      <td>2017-05-15</td>\n",
              "      <td>10:32:00</td>\n",
              "    </tr>\n",
              "  </tbody>\n",
              "</table>\n",
              "</div>"
            ],
            "text/plain": [
              "   Id            lixeira  ...  data_manutencao hora_manutencao\n",
              "0  13    Churrasqueira 1  ...       2019-12-10        10:02:10\n",
              "1  20             Bosque  ...       2019-12-10        10:02:10\n",
              "2  14    Churrasqueira 2  ...       2019-06-22        10:52:02\n",
              "3  19           Jardim 2  ...       2019-06-22        10:52:02\n",
              "4  12       Condominio 2  ...       2018-03-20        10:22:00\n",
              "5  18             Jardim  ...       2018-03-20        10:22:00\n",
              "6  21  Salão de Festas 2  ...       2018-03-20        10:22:00\n",
              "7  15    Churrasqueira 3  ...       2017-05-15        10:32:00\n",
              "8  16    Churrasqueira 4  ...       2017-05-15        10:32:00\n",
              "9  17         Área comum  ...       2017-05-15        10:32:00\n",
              "\n",
              "[10 rows x 6 columns]"
            ]
          },
          "metadata": {
            "tags": []
          },
          "execution_count": 35
        }
      ]
    },
    {
      "cell_type": "code",
      "metadata": {
        "id": "kM2Fmm0rm8v-",
        "colab_type": "code",
        "colab": {
          "base_uri": "https://localhost:8080/",
          "height": 524
        },
        "outputId": "c1d5b0c5-af51-4558-c37e-bc907fc0e9f7"
      },
      "source": [
        "\n",
        "df = relatorio1\n",
        "sns.catplot(x=\"nv_lixo\", y=\"id_nv_lixo\", hue=\"lixeira\", data=df, kind=\"bar\", palette= \"husl\",)"
      ],
      "execution_count": 37,
      "outputs": [
        {
          "output_type": "execute_result",
          "data": {
            "text/plain": [
              "<seaborn.axisgrid.FacetGrid at 0x7ffb082ee9b0>"
            ]
          },
          "metadata": {
            "tags": []
          },
          "execution_count": 37
        },
        {
          "output_type": "display_data",
          "data": {
            "image/png": "[encoded data removed]",
            "text/plain": [
              "<Figure size 672.5x500 with 1 Axes>"
            ]
          },
          "metadata": {
            "tags": []
          }
        }
      ]
    },
    {
      "cell_type": "markdown",
      "metadata": {
        "id": "EmGf6Hcfr0lS",
        "colab_type": "text"
      },
      "source": [
        "# Relatorio 2"
      ]
    },
    {
      "cell_type": "markdown",
      "metadata": {
        "id": "BV8hmHfvr0lS",
        "colab_type": "text"
      },
      "source": [
        "### Objetivo: Obter a quantidade de lixeiras disponíveis para descarte"
      ]
    },
    {
      "cell_type": "markdown",
      "metadata": {
        "id": "XQvAjVnmr0lT",
        "colab_type": "text"
      },
      "source": [
        "codigo para obtenção do resultado:"
      ]
    },
    {
      "cell_type": "code",
      "metadata": {
        "id": "RGJsj_lUr0lT",
        "colab_type": "code",
        "colab": {}
      },
      "source": [
        "relatorio2 = pd.read_sql_query(\"\"\"\n",
        "                            select situacao.tipo_situacao as \"situacao\", count(lixeira.id_lixeira) as \"quantidade\" from lixeira\n",
        "inner join nv_lixo on (lixeira.fk_nv_lixo_id_nv_lixo = nv_lixo.id_nv_lixo)\n",
        "inner join situacao on (lixeira.fk_situacao_id_situacao = situacao.id_situacao)\n",
        "where nv_lixo.id_nv_lixo < 4\n",
        "group by situacao.tipo_situacao;\n",
        "\n",
        "                            \"\"\",conn)"
      ],
      "execution_count": 0,
      "outputs": []
    },
    {
      "cell_type": "code",
      "metadata": {
        "id": "gRIADXj4r0lV",
        "colab_type": "code",
        "colab": {
          "base_uri": "https://localhost:8080/",
          "height": 111
        },
        "outputId": "b65d0632-9c9c-4b25-e2c4-582dc2572d6f"
      },
      "source": [
        "relatorio2"
      ],
      "execution_count": 49,
      "outputs": [
        {
          "output_type": "execute_result",
          "data": {
            "text/html": [
              "<div>\n",
              "<style scoped>\n",
              "    .dataframe tbody tr th:only-of-type {\n",
              "        vertical-align: middle;\n",
              "    }\n",
              "\n",
              "    .dataframe tbody tr th {\n",
              "        vertical-align: top;\n",
              "    }\n",
              "\n",
              "    .dataframe thead th {\n",
              "        text-align: right;\n",
              "    }\n",
              "</style>\n",
              "<table border=\"1\" class=\"dataframe\">\n",
              "  <thead>\n",
              "    <tr style=\"text-align: right;\">\n",
              "      <th></th>\n",
              "      <th>situacao</th>\n",
              "      <th>quantidade</th>\n",
              "    </tr>\n",
              "  </thead>\n",
              "  <tbody>\n",
              "    <tr>\n",
              "      <th>0</th>\n",
              "      <td>operante</td>\n",
              "      <td>8</td>\n",
              "    </tr>\n",
              "    <tr>\n",
              "      <th>1</th>\n",
              "      <td>inoperante</td>\n",
              "      <td>11</td>\n",
              "    </tr>\n",
              "  </tbody>\n",
              "</table>\n",
              "</div>"
            ],
            "text/plain": [
              "     situacao  quantidade\n",
              "0    operante           8\n",
              "1  inoperante          11"
            ]
          },
          "metadata": {
            "tags": []
          },
          "execution_count": 49
        }
      ]
    },
    {
      "cell_type": "markdown",
      "metadata": {
        "id": "xds75ptmr0lY",
        "colab_type": "text"
      },
      "source": [
        "Alternativamente podemos aplicar estilos a tabela para melhor formatação usando pandas e seaborn"
      ]
    },
    {
      "cell_type": "code",
      "metadata": {
        "id": "8qoWhruor0lY",
        "colab_type": "code",
        "colab": {
          "base_uri": "https://localhost:8080/",
          "height": 452
        },
        "outputId": "386f7d6f-6be4-4684-8b3b-f33880bd602c"
      },
      "source": [
        "import matplotlib.pyplot as plt; plt.rcdefaults()\n",
        "import numpy as np\n",
        "import matplotlib.pyplot as plt\n",
        " \n",
        "df=relatorio2\n",
        "objects = tuple(df.situacao)\n",
        "y_pos = np.arange(len(objects))\n",
        "performance = list(df.quantidade)\n",
        " \n",
        "plt.bar(y_pos, performance, align='center', alpha=0.5)\n",
        "plt.xticks(y_pos, objects)\n",
        "plt.ylabel('Situação')\n",
        "plt.title('Quantidade')\n",
        " \n",
        "plt.show()"
      ],
      "execution_count": 50,
      "outputs": [
        {
          "output_type": "display_data",
          "data": {
            "image/png": "[encoded data removed]",
            "text/plain": [
              "<Figure size 640x480 with 1 Axes>"
            ]
          },
          "metadata": {
            "tags": []
          }
        }
      ]
    },
    {
      "cell_type": "markdown",
      "metadata": {
        "id": "bmWJO0Rkr0li",
        "colab_type": "text"
      },
      "source": [
        "## Relatório 3"
      ]
    },
    {
      "cell_type": "markdown",
      "metadata": {
        "id": "QyOM0TIMr0lj",
        "colab_type": "text"
      },
      "source": [
        "### Objetivo: Lixeiras que atingiram nível igual ou superior a 70% da capacidade máxima que informe: código e nível de preenchimento das lixeiras"
      ]
    },
    {
      "cell_type": "markdown",
      "metadata": {
        "id": "jIuq81rxr0lk",
        "colab_type": "text"
      },
      "source": [
        "codigo para obtenção do resultado:"
      ]
    },
    {
      "cell_type": "code",
      "metadata": {
        "id": "kcg4xO4Gr0ll",
        "colab_type": "code",
        "colab": {}
      },
      "source": [
        "relatorio3 = pd.read_sql_query(\"\"\"\n",
        "                            select situacao.tipo_situacao as \"situacao\", count(lixeira.id_lixeira) as \"quantidade\" from lixeira\n",
        "inner join nv_lixo on (lixeira.fk_nv_lixo_id_nv_lixo = nv_lixo.id_nv_lixo)\n",
        "inner join situacao on (lixeira.fk_situacao_id_situacao = situacao.id_situacao)\n",
        "where nv_lixo.id_nv_lixo = 4\n",
        "group by situacao.tipo_situacao;\n",
        "                            \"\"\",conn)"
      ],
      "execution_count": 0,
      "outputs": []
    },
    {
      "cell_type": "code",
      "metadata": {
        "id": "zbEFpxt6r0ln",
        "colab_type": "code",
        "colab": {
          "base_uri": "https://localhost:8080/",
          "height": 80
        },
        "outputId": "e2c2ce80-c2e3-4fef-897c-8b9416089f2f"
      },
      "source": [
        "relatorio3"
      ],
      "execution_count": 52,
      "outputs": [
        {
          "output_type": "execute_result",
          "data": {
            "text/html": [
              "<div>\n",
              "<style scoped>\n",
              "    .dataframe tbody tr th:only-of-type {\n",
              "        vertical-align: middle;\n",
              "    }\n",
              "\n",
              "    .dataframe tbody tr th {\n",
              "        vertical-align: top;\n",
              "    }\n",
              "\n",
              "    .dataframe thead th {\n",
              "        text-align: right;\n",
              "    }\n",
              "</style>\n",
              "<table border=\"1\" class=\"dataframe\">\n",
              "  <thead>\n",
              "    <tr style=\"text-align: right;\">\n",
              "      <th></th>\n",
              "      <th>situacao</th>\n",
              "      <th>quantidade</th>\n",
              "    </tr>\n",
              "  </thead>\n",
              "  <tbody>\n",
              "    <tr>\n",
              "      <th>0</th>\n",
              "      <td>operante</td>\n",
              "      <td>2</td>\n",
              "    </tr>\n",
              "  </tbody>\n",
              "</table>\n",
              "</div>"
            ],
            "text/plain": [
              "   situacao  quantidade\n",
              "0  operante           2"
            ]
          },
          "metadata": {
            "tags": []
          },
          "execution_count": 52
        }
      ]
    },
    {
      "cell_type": "code",
      "metadata": {
        "id": "snQFfuFivnbQ",
        "colab_type": "code",
        "colab": {
          "base_uri": "https://localhost:8080/",
          "height": 452
        },
        "outputId": "f00d1b50-e606-48ff-8d2f-f68b30cb4f8f"
      },
      "source": [
        "import matplotlib.pyplot as plt; plt.rcdefaults()\n",
        "import numpy as np\n",
        "import matplotlib.pyplot as plt\n",
        " \n",
        "df=relatorio3\n",
        "objects = tuple(df.situacao)\n",
        "y_pos = np.arange(len(objects))\n",
        "performance = list(df.quantidade)\n",
        " \n",
        "plt.bar(y_pos, performance, align='center', alpha=0.5)\n",
        "plt.xticks(y_pos, objects)\n",
        "plt.ylabel('Situação')\n",
        "plt.title('Quantidade')\n",
        " \n",
        "plt.show()"
      ],
      "execution_count": 54,
      "outputs": [
        {
          "output_type": "display_data",
          "data": {
            "image/png": "[encoded data removed]",
            "text/plain": [
              "<Figure size 640x480 with 1 Axes>"
            ]
          },
          "metadata": {
            "tags": []
          }
        }
      ]
    },
    {
      "cell_type": "markdown",
      "metadata": {
        "id": "-M-XkztBr0lt",
        "colab_type": "text"
      },
      "source": [
        "## Relatório 4"
      ]
    },
    {
      "cell_type": "markdown",
      "metadata": {
        "id": "MO8GMJxjr0lw",
        "colab_type": "text"
      },
      "source": [
        "### Objetivo: Quantidade das manutenções das lixeiras, informando quantas vezes teve problemas;"
      ]
    },
    {
      "cell_type": "markdown",
      "metadata": {
        "id": "wh8YBxeBr0lx",
        "colab_type": "text"
      },
      "source": [
        "codigo para obtenção do resultado:"
      ]
    },
    {
      "cell_type": "code",
      "metadata": {
        "id": "69R7EhULr0lx",
        "colab_type": "code",
        "colab": {}
      },
      "source": [
        "relatorio4 = pd.read_sql_query(\"\"\"\n",
        "                            select lixeira.nome_lixo as \"lixeira\", count(manutencao_chamado.id_manutencao) as \"quantidade\" from lixeira\n",
        "inner join manutencao_chamado on (lixeira.id_lixeira = manutencao_chamado.fk_lixeira_id_lixeira)\n",
        "group by lixeira.nome_lixo;\n",
        "                            \"\"\",conn)"
      ],
      "execution_count": 0,
      "outputs": []
    },
    {
      "cell_type": "code",
      "metadata": {
        "id": "_LZFzGmir0l1",
        "colab_type": "code",
        "colab": {
          "base_uri": "https://localhost:8080/",
          "height": 421
        },
        "outputId": "a37880ec-3952-4a3f-d525-82f1d4c24626"
      },
      "source": [
        "relatorio4"
      ],
      "execution_count": 59,
      "outputs": [
        {
          "output_type": "execute_result",
          "data": {
            "text/html": [
              "<div>\n",
              "<style scoped>\n",
              "    .dataframe tbody tr th:only-of-type {\n",
              "        vertical-align: middle;\n",
              "    }\n",
              "\n",
              "    .dataframe tbody tr th {\n",
              "        vertical-align: top;\n",
              "    }\n",
              "\n",
              "    .dataframe thead th {\n",
              "        text-align: right;\n",
              "    }\n",
              "</style>\n",
              "<table border=\"1\" class=\"dataframe\">\n",
              "  <thead>\n",
              "    <tr style=\"text-align: right;\">\n",
              "      <th></th>\n",
              "      <th>lixeira</th>\n",
              "      <th>quantidade</th>\n",
              "    </tr>\n",
              "  </thead>\n",
              "  <tbody>\n",
              "    <tr>\n",
              "      <th>0</th>\n",
              "      <td>Garagem</td>\n",
              "      <td>1</td>\n",
              "    </tr>\n",
              "    <tr>\n",
              "      <th>1</th>\n",
              "      <td>Salão de Festas</td>\n",
              "      <td>1</td>\n",
              "    </tr>\n",
              "    <tr>\n",
              "      <th>2</th>\n",
              "      <td>Garagem 2</td>\n",
              "      <td>1</td>\n",
              "    </tr>\n",
              "    <tr>\n",
              "      <th>3</th>\n",
              "      <td>Condominio 1</td>\n",
              "      <td>1</td>\n",
              "    </tr>\n",
              "    <tr>\n",
              "      <th>4</th>\n",
              "      <td>Area de Festas</td>\n",
              "      <td>1</td>\n",
              "    </tr>\n",
              "    <tr>\n",
              "      <th>5</th>\n",
              "      <td>Quadra</td>\n",
              "      <td>1</td>\n",
              "    </tr>\n",
              "    <tr>\n",
              "      <th>6</th>\n",
              "      <td>Garagem 4</td>\n",
              "      <td>1</td>\n",
              "    </tr>\n",
              "    <tr>\n",
              "      <th>7</th>\n",
              "      <td>Piscina</td>\n",
              "      <td>1</td>\n",
              "    </tr>\n",
              "    <tr>\n",
              "      <th>8</th>\n",
              "      <td>Garagem 3</td>\n",
              "      <td>1</td>\n",
              "    </tr>\n",
              "    <tr>\n",
              "      <th>9</th>\n",
              "      <td>Salão de Festas 2</td>\n",
              "      <td>1</td>\n",
              "    </tr>\n",
              "    <tr>\n",
              "      <th>10</th>\n",
              "      <td>Playground</td>\n",
              "      <td>1</td>\n",
              "    </tr>\n",
              "    <tr>\n",
              "      <th>11</th>\n",
              "      <td>Salão de Festas 3</td>\n",
              "      <td>1</td>\n",
              "    </tr>\n",
              "  </tbody>\n",
              "</table>\n",
              "</div>"
            ],
            "text/plain": [
              "              lixeira  quantidade\n",
              "0             Garagem           1\n",
              "1     Salão de Festas           1\n",
              "2           Garagem 2           1\n",
              "3        Condominio 1           1\n",
              "4      Area de Festas           1\n",
              "5              Quadra           1\n",
              "6           Garagem 4           1\n",
              "7             Piscina           1\n",
              "8           Garagem 3           1\n",
              "9   Salão de Festas 2           1\n",
              "10         Playground           1\n",
              "11  Salão de Festas 3           1"
            ]
          },
          "metadata": {
            "tags": []
          },
          "execution_count": 59
        }
      ]
    },
    {
      "cell_type": "code",
      "metadata": {
        "id": "WGAoB3s4r0l4",
        "colab_type": "code",
        "colab": {
          "base_uri": "https://localhost:8080/",
          "height": 542
        },
        "outputId": "8f62fe22-2314-4fe3-f91c-55b2ed37e459"
      },
      "source": [
        "df = relatorio4\n",
        "\n",
        "sns.catplot(x=\"quantidade\", y=\"lixeira\",\n",
        "                data=df, saturation=.5,\n",
        "                kind=\"bar\", ci=None, aspect=.8, palette= \"husl\")\n",
        "plt.xlabel('Numero de manutenções')\n",
        "plt.title('Lixeiras')"
      ],
      "execution_count": 60,
      "outputs": [
        {
          "output_type": "execute_result",
          "data": {
            "text/plain": [
              "Text(0.5, 1.0, 'Lixeiras')"
            ]
          },
          "metadata": {
            "tags": []
          },
          "execution_count": 60
        },
        {
          "output_type": "display_data",
          "data": {
            "image/png": "[encoded data removed]",
            "text/plain": [
              "<Figure size 400x500 with 1 Axes>"
            ]
          },
          "metadata": {
            "tags": []
          }
        }
      ]
    },
    {
      "cell_type": "markdown",
      "metadata": {
        "id": "XEEG6cTWwujV",
        "colab_type": "text"
      },
      "source": [
        "# Relatório 5"
      ]
    },
    {
      "cell_type": "markdown",
      "metadata": {
        "id": "uZXkF56Mw4Rm",
        "colab_type": "text"
      },
      "source": [
        "### Objetivo: Situação operante das lixeiras"
      ]
    },
    {
      "cell_type": "markdown",
      "metadata": {
        "id": "qZ30sBfOxP4p",
        "colab_type": "text"
      },
      "source": [
        "codigo para obtenção do resultado:"
      ]
    },
    {
      "cell_type": "code",
      "metadata": {
        "id": "tOliFlzXxNKY",
        "colab_type": "code",
        "colab": {}
      },
      "source": [
        "relatorio5 = pd.read_sql_query(\"\"\"\n",
        "                            select situacao.tipo_situacao as \"situacao\", count(lixeira.id_lixeira) as \"quantidade\" from lixeira\n",
        "inner join nv_lixo on (lixeira.fk_nv_lixo_id_nv_lixo = nv_lixo.id_nv_lixo)\n",
        "inner join situacao on (lixeira.fk_situacao_id_situacao = situacao.id_situacao)\n",
        "group by situacao.tipo_situacao;\n",
        "                            \"\"\",conn)"
      ],
      "execution_count": 0,
      "outputs": []
    },
    {
      "cell_type": "code",
      "metadata": {
        "id": "rqYB0gL3xWiV",
        "colab_type": "code",
        "colab": {
          "base_uri": "https://localhost:8080/",
          "height": 111
        },
        "outputId": "6f925269-7110-4441-b13f-5d34cae1a18a"
      },
      "source": [
        "relatorio5"
      ],
      "execution_count": 65,
      "outputs": [
        {
          "output_type": "execute_result",
          "data": {
            "text/html": [
              "<div>\n",
              "<style scoped>\n",
              "    .dataframe tbody tr th:only-of-type {\n",
              "        vertical-align: middle;\n",
              "    }\n",
              "\n",
              "    .dataframe tbody tr th {\n",
              "        vertical-align: top;\n",
              "    }\n",
              "\n",
              "    .dataframe thead th {\n",
              "        text-align: right;\n",
              "    }\n",
              "</style>\n",
              "<table border=\"1\" class=\"dataframe\">\n",
              "  <thead>\n",
              "    <tr style=\"text-align: right;\">\n",
              "      <th></th>\n",
              "      <th>situacao</th>\n",
              "      <th>quantidade</th>\n",
              "    </tr>\n",
              "  </thead>\n",
              "  <tbody>\n",
              "    <tr>\n",
              "      <th>0</th>\n",
              "      <td>operante</td>\n",
              "      <td>10</td>\n",
              "    </tr>\n",
              "    <tr>\n",
              "      <th>1</th>\n",
              "      <td>inoperante</td>\n",
              "      <td>11</td>\n",
              "    </tr>\n",
              "  </tbody>\n",
              "</table>\n",
              "</div>"
            ],
            "text/plain": [
              "     situacao  quantidade\n",
              "0    operante          10\n",
              "1  inoperante          11"
            ]
          },
          "metadata": {
            "tags": []
          },
          "execution_count": 65
        }
      ]
    },
    {
      "cell_type": "code",
      "metadata": {
        "id": "xQat2sdQxpg5",
        "colab_type": "code",
        "colab": {
          "base_uri": "https://localhost:8080/",
          "height": 542
        },
        "outputId": "0f20499a-ceab-45a0-c160-e6628d5e277a"
      },
      "source": [
        "df = relatorio5;\n",
        "\n",
        "current_palette = sns.color_palette()\n",
        "\n",
        "sns.catplot(x=\"situacao\", y=\"quantidade\",\n",
        "                data=df, saturation=.5,\n",
        "                kind=\"bar\", ci=None, aspect=.8, palette= \"husl\");\n",
        "plt.title('Situação de todas as lixeiras')\n",
        "plt.ylabel('Quantidade')\n",
        "plt.xlabel('Situação')"
      ],
      "execution_count": 67,
      "outputs": [
        {
          "output_type": "execute_result",
          "data": {
            "text/plain": [
              "Text(0.5, 9.444444444444438, 'Situação')"
            ]
          },
          "metadata": {
            "tags": []
          },
          "execution_count": 67
        },
        {
          "output_type": "display_data",
          "data": {
            "image/png": "[encoded data removed]",
            "text/plain": [
              "<Figure size 400x500 with 1 Axes>"
            ]
          },
          "metadata": {
            "tags": []
          }
        }
      ]
    },
    {
      "cell_type": "markdown",
      "metadata": {
        "id": "2IRUdgpNr0mH",
        "colab_type": "text"
      },
      "source": [
        "# Referencias"
      ]
    },
    {
      "cell_type": "markdown",
      "metadata": {
        "id": "zSt5igpdr0mI",
        "colab_type": "text"
      },
      "source": [
        "https://pandas.pydata.org/pandas-docs/stable/style.html <br>\n",
        "https://pythonspot.com/matplotlib-bar-chart/<br>\n",
        "https://pandas.pydata.org/pandas-docs/stable/generated/pandas.DataFrame.loc.html <br>"
      ]
    }
  ]
}